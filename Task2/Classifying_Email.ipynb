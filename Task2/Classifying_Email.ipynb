{
  "nbformat": 4,
  "nbformat_minor": 0,
  "metadata": {
    "colab": {
      "provenance": []
    },
    "kernelspec": {
      "name": "python3",
      "display_name": "Python 3"
    },
    "language_info": {
      "name": "python"
    }
  },
  "cells": [
    {
      "cell_type": "markdown",
      "source": [
        "Important Utilities for the code."
      ],
      "metadata": {
        "id": "HurRNZ8PWC6C"
      }
    },
    {
      "cell_type": "code",
      "execution_count": 93,
      "metadata": {
        "id": "78lPN4fO9Adg"
      },
      "outputs": [],
      "source": [
        "import pandas as pd\n",
        "import numpy as np\n",
        "import re\n",
        "import matplotlib.pyplot as plt\n",
        "from sklearn.model_selection import train_test_split\n",
        "from sklearn.feature_extraction.text import TfidfVectorizer\n",
        "from sklearn.naive_bayes import MultinomialNB\n",
        "from sklearn.svm import SVC\n",
        "from sklearn.metrics import classification_report, confusion_matrix, accuracy_score\n",
        "from sklearn.pipeline import make_pipeline"
      ]
    },
    {
      "cell_type": "markdown",
      "source": [
        "Loading the Dataset."
      ],
      "metadata": {
        "id": "fr6_4APZWJj4"
      }
    },
    {
      "cell_type": "code",
      "source": [
        "data = pd.read_csv('/content/spam_or_not_spam.csv')\n",
        "print(data.head())\n",
        "print(data.info())"
      ],
      "metadata": {
        "colab": {
          "base_uri": "https://localhost:8080/"
        },
        "id": "JgdxUnIyGFwG",
        "outputId": "b70b107f-a842-45b8-aa4b-a4ae2302b772"
      },
      "execution_count": 94,
      "outputs": [
        {
          "output_type": "stream",
          "name": "stdout",
          "text": [
            "                                               email  label\n",
            "0   date wed NUMBER aug NUMBER NUMBER NUMBER NUMB...      0\n",
            "1  martin a posted tassos papadopoulos the greek ...      0\n",
            "2  man threatens explosion in moscow thursday aug...      0\n",
            "3  klez the virus that won t die already the most...      0\n",
            "4   in adding cream to spaghetti carbonara which ...      0\n",
            "<class 'pandas.core.frame.DataFrame'>\n",
            "RangeIndex: 3000 entries, 0 to 2999\n",
            "Data columns (total 2 columns):\n",
            " #   Column  Non-Null Count  Dtype \n",
            "---  ------  --------------  ----- \n",
            " 0   email   2999 non-null   object\n",
            " 1   label   3000 non-null   int64 \n",
            "dtypes: int64(1), object(1)\n",
            "memory usage: 47.0+ KB\n",
            "None\n"
          ]
        }
      ]
    },
    {
      "cell_type": "markdown",
      "source": [
        "Checking for Null Values."
      ],
      "metadata": {
        "id": "rHrhTnviW1lO"
      }
    },
    {
      "cell_type": "code",
      "source": [
        "data.isnull().sum()"
      ],
      "metadata": {
        "colab": {
          "base_uri": "https://localhost:8080/",
          "height": 146
        },
        "id": "Kl_uwuRnLMb5",
        "outputId": "c2d3ac20-eaf3-4947-f81f-dbc18703f913"
      },
      "execution_count": 95,
      "outputs": [
        {
          "output_type": "execute_result",
          "data": {
            "text/plain": [
              "email    1\n",
              "label    0\n",
              "dtype: int64"
            ],
            "text/html": [
              "<div>\n",
              "<style scoped>\n",
              "    .dataframe tbody tr th:only-of-type {\n",
              "        vertical-align: middle;\n",
              "    }\n",
              "\n",
              "    .dataframe tbody tr th {\n",
              "        vertical-align: top;\n",
              "    }\n",
              "\n",
              "    .dataframe thead th {\n",
              "        text-align: right;\n",
              "    }\n",
              "</style>\n",
              "<table border=\"1\" class=\"dataframe\">\n",
              "  <thead>\n",
              "    <tr style=\"text-align: right;\">\n",
              "      <th></th>\n",
              "      <th>0</th>\n",
              "    </tr>\n",
              "  </thead>\n",
              "  <tbody>\n",
              "    <tr>\n",
              "      <th>email</th>\n",
              "      <td>1</td>\n",
              "    </tr>\n",
              "    <tr>\n",
              "      <th>label</th>\n",
              "      <td>0</td>\n",
              "    </tr>\n",
              "  </tbody>\n",
              "</table>\n",
              "</div><br><label><b>dtype:</b> int64</label>"
            ]
          },
          "metadata": {},
          "execution_count": 95
        }
      ]
    },
    {
      "cell_type": "markdown",
      "source": [
        "Dropping Null Values."
      ],
      "metadata": {
        "id": "BlRS40oCWYgt"
      }
    },
    {
      "cell_type": "code",
      "source": [
        "data.dropna(inplace=True)\n",
        "data.drop_duplicates(inplace=True)"
      ],
      "metadata": {
        "id": "ZbmugeWNOaAW"
      },
      "execution_count": 96,
      "outputs": []
    },
    {
      "cell_type": "markdown",
      "source": [
        "Data Cleaning and Preprocessing."
      ],
      "metadata": {
        "id": "3eEw0OFCWgN6"
      }
    },
    {
      "cell_type": "code",
      "source": [
        "def preprocess_text(text):\n",
        "    # Check if text is NaN or not a string\n",
        "    if pd.isna(text) or not isinstance(text, str):\n",
        "        return ''\n",
        "\n",
        "    # Lowercase\n",
        "    text = text.lower()\n",
        "    # Remove special characters and digits\n",
        "    text = re.sub(r'[^a-z\\s]', '', text)\n",
        "    # Remove extra whitespace\n",
        "    text = re.sub(r'\\s+', ' ', text).strip()\n",
        "    return text\n"
      ],
      "metadata": {
        "id": "NUZgvZJfHXz8"
      },
      "execution_count": 97,
      "outputs": []
    },
    {
      "cell_type": "markdown",
      "source": [
        "Preprocessing to Email column."
      ],
      "metadata": {
        "id": "RTMnk0FLWkVM"
      }
    },
    {
      "cell_type": "code",
      "source": [
        "#Applying the preprocess_text function to emails\n",
        "data['clean_email'] = data['email'].apply(preprocess_text)"
      ],
      "metadata": {
        "id": "cjP5paunJtyF"
      },
      "execution_count": 98,
      "outputs": []
    },
    {
      "cell_type": "markdown",
      "source": [
        "Checking the data types for each column."
      ],
      "metadata": {
        "id": "OM0deS-hW9VS"
      }
    },
    {
      "cell_type": "code",
      "source": [
        "print(data.dtypes)"
      ],
      "metadata": {
        "colab": {
          "base_uri": "https://localhost:8080/"
        },
        "id": "7wMDnqKUPZGx",
        "outputId": "8aace8c6-7616-4911-df6c-fc1299360926"
      },
      "execution_count": 99,
      "outputs": [
        {
          "output_type": "stream",
          "name": "stdout",
          "text": [
            "email          object\n",
            "label           int64\n",
            "clean_email    object\n",
            "dtype: object\n"
          ]
        }
      ]
    },
    {
      "cell_type": "markdown",
      "source": [
        "Plotting the Email Count Graph and visualizing."
      ],
      "metadata": {
        "id": "YMJqtUEaXDrF"
      }
    },
    {
      "cell_type": "code",
      "source": [
        "email_count = data['label'].value_counts()\n",
        "email_count.plot(kind = 'bar')\n",
        "plt.title('Email Count')\n",
        "plt.xlabel('Label')\n",
        "plt.ylabel('Count')\n",
        "plt.xticks(rotation=0)\n",
        "plt.show()"
      ],
      "metadata": {
        "colab": {
          "base_uri": "https://localhost:8080/",
          "height": 472
        },
        "id": "YKzYg2ECPhFX",
        "outputId": "d7ecdd74-6ab0-49eb-ae24-332d3952de9d"
      },
      "execution_count": 100,
      "outputs": [
        {
          "output_type": "display_data",
          "data": {
            "text/plain": [
              "<Figure size 640x480 with 1 Axes>"
            ],
            "image/png": "[encoded data removed]"
          },
          "metadata": {}
        }
      ]
    },
    {
      "cell_type": "markdown",
      "source": [
        "Splitting the features and Label."
      ],
      "metadata": {
        "id": "0LbF1p_oXSai"
      }
    },
    {
      "cell_type": "code",
      "source": [
        "X = data['clean_email']\n",
        "y = data['label']"
      ],
      "metadata": {
        "id": "qvtYILkmQfUi"
      },
      "execution_count": 101,
      "outputs": []
    },
    {
      "cell_type": "markdown",
      "source": [
        "Splitting the data into training and testing sets."
      ],
      "metadata": {
        "id": "x27bGc3CXaC3"
      }
    },
    {
      "cell_type": "code",
      "source": [
        "X_train, X_test, y_train, y_test = train_test_split(X, y, test_size=0.1, random_state=42)"
      ],
      "metadata": {
        "id": "dsPCN0cbRVyj"
      },
      "execution_count": 108,
      "outputs": []
    },
    {
      "cell_type": "markdown",
      "source": [
        "Feature extraction using TF-IDF."
      ],
      "metadata": {
        "id": "G-nTCWUqXkOl"
      }
    },
    {
      "cell_type": "code",
      "source": [
        "tfidf = TfidfVectorizer()"
      ],
      "metadata": {
        "id": "r79fyIm7RedO"
      },
      "execution_count": 109,
      "outputs": []
    },
    {
      "cell_type": "markdown",
      "source": [
        "Function to train and evaluate the model."
      ],
      "metadata": {
        "id": "D0AuhEFbXtsP"
      }
    },
    {
      "cell_type": "code",
      "source": [
        "def train_and_evaluate_model(model):\n",
        "    # Create a pipeline\n",
        "    pipeline = make_pipeline(tfidf, model)\n",
        "\n",
        "    # Fit the model\n",
        "    pipeline.fit(X_train, y_train)\n",
        "\n",
        "    # Predictions\n",
        "    y_pred = pipeline.predict(X_test)\n",
        "\n",
        "    # Evaluation\n",
        "    accuracy = accuracy_score(y_test, y_pred)\n",
        "    print(f\"Accuracy for {model.__class__.__name__}: {accuracy:.4f}\")\n",
        "    return accuracy"
      ],
      "metadata": {
        "id": "PXPwWOGXTvZe"
      },
      "execution_count": 110,
      "outputs": []
    },
    {
      "cell_type": "markdown",
      "source": [
        "Train and Evaluate Naive Bayes Model."
      ],
      "metadata": {
        "id": "Kpr5zdgxX153"
      }
    },
    {
      "cell_type": "code",
      "source": [
        "naive_bayes_model = MultinomialNB()\n",
        "naive_bayes_accuracy = train_and_evaluate_model(naive_bayes_model)"
      ],
      "metadata": {
        "colab": {
          "base_uri": "https://localhost:8080/"
        },
        "id": "WyCZE1-gT7Yw",
        "outputId": "4353f93a-9852-44bf-ff1d-33d28d02182a"
      },
      "execution_count": 111,
      "outputs": [
        {
          "output_type": "stream",
          "name": "stdout",
          "text": [
            "Accuracy for MultinomialNB: 0.8785\n"
          ]
        }
      ]
    },
    {
      "cell_type": "markdown",
      "source": [
        "Train and Evaluate SVM Model."
      ],
      "metadata": {
        "id": "2FqlWeLBX80v"
      }
    },
    {
      "cell_type": "code",
      "source": [
        "svm_model = SVC(kernel='linear')\n",
        "svm_accuracy = train_and_evaluate_model(svm_model)"
      ],
      "metadata": {
        "colab": {
          "base_uri": "https://localhost:8080/"
        },
        "id": "4GBSbRg9UJU0",
        "outputId": "e5a94866-f2ec-4871-e608-56130fa6e065"
      },
      "execution_count": 112,
      "outputs": [
        {
          "output_type": "stream",
          "name": "stdout",
          "text": [
            "Accuracy for SVC: 0.9965\n"
          ]
        }
      ]
    },
    {
      "cell_type": "markdown",
      "source": [
        "Visualizing Again to Check both Models results."
      ],
      "metadata": {
        "id": "VkD2F4hAYFkL"
      }
    },
    {
      "cell_type": "code",
      "source": [
        "models = ['Naive Bayes', 'SVM']\n",
        "accuracies = [naive_bayes_accuracy, svm_accuracy]"
      ],
      "metadata": {
        "id": "31K8ZhwQUWS5"
      },
      "execution_count": 113,
      "outputs": []
    },
    {
      "cell_type": "markdown",
      "source": [
        "Plotting the Graph."
      ],
      "metadata": {
        "id": "pu-AhWJMYNJb"
      }
    },
    {
      "cell_type": "code",
      "source": [
        "plt.bar(models, accuracies, color=['blue', 'orange'])\n",
        "plt.ylabel('Accuracy')\n",
        "plt.title('Model Accuracy Comparison')\n",
        "plt.ylim(0, 1)  # Set y-axis limits to [0, 1]\n",
        "plt.show()"
      ],
      "metadata": {
        "colab": {
          "base_uri": "https://localhost:8080/",
          "height": 452
        },
        "id": "bJ09eJwxV6AN",
        "outputId": "1db0d3b3-6488-4714-bfd1-f0b72f81436a"
      },
      "execution_count": 114,
      "outputs": [
        {
          "output_type": "display_data",
          "data": {
            "text/plain": [
              "<Figure size 640x480 with 1 Axes>"
            ],
            "image/png": "[encoded data removed]"
          },
          "metadata": {}
        }
      ]
    }
  ]
}